{
 "cells": [
  {
   "cell_type": "code",
   "execution_count": 1,
   "id": "0ae9a275",
   "metadata": {},
   "outputs": [],
   "source": [
    "#Wine Quality Prediction : Machine Learning model to predict the quality of wine using linear regression.\n",
    "#Jupyter notebook code."
   ]
  },
  {
   "cell_type": "code",
   "execution_count": 2,
   "id": "743c3bb5",
   "metadata": {},
   "outputs": [],
   "source": [
    "# Import necessary libraries\n",
    "import numpy as np\n",
    "import pandas as pd\n",
    "import matplotlib.pyplot as plt\n",
    "from sklearn.model_selection import train_test_split\n",
    "from sklearn.linear_model import LinearRegression\n",
    "from sklearn.metrics import mean_squared_error"
   ]
  },
  {
   "cell_type": "code",
   "execution_count": 3,
   "id": "63d5816f",
   "metadata": {},
   "outputs": [],
   "source": [
    "# Load the Wine Quality dataset\n",
    "wine_data = pd.read_csv('F://Bharat Intern - Task 2023//winequality.csv')"
   ]
  },
  {
   "cell_type": "code",
   "execution_count": 4,
   "id": "dbe20f69",
   "metadata": {},
   "outputs": [],
   "source": [
    "# Data preprocessing\n",
    "X = wine_data.drop('quality', axis=1)  # Features (attributes) excluding the target variable\n",
    "y = wine_data['quality']  # Target variable (wine quality)"
   ]
  },
  {
   "cell_type": "code",
   "execution_count": 5,
   "id": "b0008937",
   "metadata": {},
   "outputs": [],
   "source": [
    "# Split the data into training and testing sets (80% train, 20% test)\n",
    "X_train, X_test, y_train, y_test = train_test_split(X, y, test_size=0.2, random_state=42)"
   ]
  },
  {
   "cell_type": "code",
   "execution_count": 6,
   "id": "666eefce",
   "metadata": {},
   "outputs": [],
   "source": [
    "# Create a Linear Regression model\n",
    "model = LinearRegression()\n"
   ]
  },
  {
   "cell_type": "code",
   "execution_count": 7,
   "id": "746dfe11",
   "metadata": {},
   "outputs": [
    {
     "data": {
      "text/plain": [
       "LinearRegression()"
      ]
     },
     "execution_count": 7,
     "metadata": {},
     "output_type": "execute_result"
    }
   ],
   "source": [
    "# Fit the model to the training data\n",
    "model.fit(X_train, y_train)"
   ]
  },
  {
   "cell_type": "code",
   "execution_count": 8,
   "id": "ed78aab7",
   "metadata": {},
   "outputs": [],
   "source": [
    "# Make predictions on the test set\n",
    "y_pred = model.predict(X_test)"
   ]
  },
  {
   "cell_type": "code",
   "execution_count": 9,
   "id": "e29aa12c",
   "metadata": {},
   "outputs": [
    {
     "name": "stdout",
     "output_type": "stream",
     "text": [
      "Mean Squared Error: 0.39002514396395427\n"
     ]
    }
   ],
   "source": [
    "# Calculate the Mean Squared Error (MSE) to evaluate the model\n",
    "mse = mean_squared_error(y_test, y_pred)\n",
    "print(f\"Mean Squared Error: {mse}\")"
   ]
  },
  {
   "cell_type": "code",
   "execution_count": 10,
   "id": "8120da7d",
   "metadata": {},
   "outputs": [
    {
     "data": {
      "image/png": "[encoded data removed]",
      "text/plain": [
       "<Figure size 576x432 with 1 Axes>"
      ]
     },
     "metadata": {
      "needs_background": "light"
     },
     "output_type": "display_data"
    }
   ],
   "source": [
    "# Plot a linear regression line along with the scatter plot of actual vs. predicted wine quality\n",
    "plt.figure(figsize=(8, 6))\n",
    "plt.scatter(y_test, y_pred, alpha=0.5)\n",
    "plt.plot([min(y_test), max(y_test)], [min(y_test), max(y_test)], '--k', lw=2)  # Linear regression line\n",
    "plt.xlabel(\"Actual Wine Quality\")\n",
    "plt.ylabel(\"Predicted Wine Quality\")\n",
    "plt.title(\"Linear Regression: Actual vs. Predicted Wine Quality\")\n",
    "plt.show()"
   ]
  },
  {
   "cell_type": "code",
   "execution_count": 11,
   "id": "898e8093",
   "metadata": {},
   "outputs": [],
   "source": [
    "# User input for wine quality prediction\n",
    "user_input = {\n",
    "    'fixed acidity': 7.5,\n",
    "    'volatile acidity': 0.5,\n",
    "    'citric acid': 0.36,\n",
    "    'residual sugar': 6.1,\n",
    "    'chlorides': 0.071,\n",
    "    'free sulfur dioxide': 10,\n",
    "    'total sulfur dioxide': 34,\n",
    "    'density': 0.997,\n",
    "    'pH': 3.2,\n",
    "    'sulphates': 0.55,\n",
    "    'alcohol': 10.4\n",
    "}"
   ]
  },
  {
   "cell_type": "code",
   "execution_count": 12,
   "id": "7f18b591",
   "metadata": {},
   "outputs": [],
   "source": [
    "# Convert user input to a DataFrame\n",
    "user_df = pd.DataFrame([user_input])"
   ]
  },
  {
   "cell_type": "code",
   "execution_count": 13,
   "id": "b51e86ee",
   "metadata": {},
   "outputs": [
    {
     "name": "stdout",
     "output_type": "stream",
     "text": [
      "Predicted Wine Quality: 5.63\n"
     ]
    }
   ],
   "source": [
    "# Make a prediction for the user input\n",
    "predicted_quality = model.predict(user_df)[0]\n",
    "print(f\"Predicted Wine Quality: {predicted_quality:.2f}\")"
   ]
  },
  {
   "cell_type": "code",
   "execution_count": null,
   "id": "a8b5f7fa",
   "metadata": {},
   "outputs": [],
   "source": []
  }
 ],
 "metadata": {
  "kernelspec": {
   "display_name": "Python 3 (ipykernel)",
   "language": "python",
   "name": "python3"
  },
  "language_info": {
   "codemirror_mode": {
    "name": "ipython",
    "version": 3
   },
   "file_extension": ".py",
   "mimetype": "text/x-python",
   "name": "python",
   "nbconvert_exporter": "python",
   "pygments_lexer": "ipython3",
   "version": "3.9.12"
  }
 },
 "nbformat": 4,
 "nbformat_minor": 5
}
